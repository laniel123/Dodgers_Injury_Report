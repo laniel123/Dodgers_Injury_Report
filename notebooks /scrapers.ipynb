{
 "cells": [
  {
   "cell_type": "markdown",
   "id": "102deeee",
   "metadata": {},
   "source": [
    "# Imports "
   ]
  },
  {
   "cell_type": "code",
   "execution_count": 1,
   "id": "d9205ed4",
   "metadata": {},
   "outputs": [],
   "source": [
    "import sqlite3\n",
    "import time\n",
    "from selenium import webdriver\n",
    "from selenium.webdriver.chrome.service import Service\n",
    "from webdriver_manager.chrome import ChromeDriverManager\n",
    "from bs4 import BeautifulSoup \n"
   ]
  },
  {
   "cell_type": "markdown",
   "id": "32413f8a",
   "metadata": {},
   "source": [
    "# Scrapers"
   ]
  },
  {
   "cell_type": "markdown",
   "id": "6ec442a2",
   "metadata": {},
   "source": [
    "## Injury Scraper "
   ]
  },
  {
   "cell_type": "code",
   "execution_count": 2,
   "id": "3ddcbc48",
   "metadata": {},
   "outputs": [
    {
     "ename": "OperationalError",
     "evalue": "unable to open database file",
     "output_type": "error",
     "traceback": [
      "\u001b[31m---------------------------------------------------------------------------\u001b[39m",
      "\u001b[31mOperationalError\u001b[39m                          Traceback (most recent call last)",
      "\u001b[36mCell\u001b[39m\u001b[36m \u001b[39m\u001b[32mIn[2]\u001b[39m\u001b[32m, line 98\u001b[39m\n\u001b[32m     95\u001b[39m     \u001b[38;5;28mprint\u001b[39m(\u001b[33m\"\u001b[39m\u001b[33m✅ Scraping + saving complete.\u001b[39m\u001b[33m\"\u001b[39m)\n\u001b[32m     97\u001b[39m \u001b[38;5;28;01mif\u001b[39;00m \u001b[34m__name__\u001b[39m == \u001b[33m'\u001b[39m\u001b[33m__main__\u001b[39m\u001b[33m'\u001b[39m:\n\u001b[32m---> \u001b[39m\u001b[32m98\u001b[39m     \u001b[43mscrape_injuries\u001b[49m\u001b[43m(\u001b[49m\u001b[33;43m'\u001b[39;49m\u001b[33;43mdata/dodgers_injury_db.sqlite\u001b[39;49m\u001b[33;43m'\u001b[39;49m\u001b[43m)\u001b[49m\n",
      "\u001b[36mCell\u001b[39m\u001b[36m \u001b[39m\u001b[32mIn[2]\u001b[39m\u001b[32m, line 13\u001b[39m, in \u001b[36mscrape_injuries\u001b[39m\u001b[34m(db_path)\u001b[39m\n\u001b[32m     10\u001b[39m driver.quit()\n\u001b[32m     12\u001b[39m \u001b[38;5;66;03m# Connect to DB\u001b[39;00m\n\u001b[32m---> \u001b[39m\u001b[32m13\u001b[39m conn = \u001b[43msqlite3\u001b[49m\u001b[43m.\u001b[49m\u001b[43mconnect\u001b[49m\u001b[43m(\u001b[49m\u001b[43mdb_path\u001b[49m\u001b[43m)\u001b[49m\n\u001b[32m     14\u001b[39m cursor = conn.cursor()\n\u001b[32m     16\u001b[39m \u001b[38;5;66;03m# Find all <p> blocks that contain injuries\u001b[39;00m\n",
      "\u001b[31mOperationalError\u001b[39m: unable to open database file"
     ]
    }
   ],
   "source": [
    "def scrape_injuries(db_path):\n",
    "    url = 'https://www.mlb.com/news/dodgers-injuries-and-roster-moves'\n",
    "\n",
    "    # Set up Selenium driver\n",
    "    driver = webdriver.Chrome(service=Service(ChromeDriverManager().install()))\n",
    "    driver.get(url)\n",
    "    time.sleep(5)\n",
    "\n",
    "    soup = BeautifulSoup(driver.page_source, 'html.parser')\n",
    "    driver.quit()\n",
    "\n",
    "    # Connect to DB\n",
    "    conn = sqlite3.connect(db_path)\n",
    "    cursor = conn.cursor()\n",
    "\n",
    "    # Find all <p> blocks that contain injuries\n",
    "    injury_blocks = soup.find_all('p')\n",
    "\n",
    "    for block in injury_blocks:\n",
    "        # Must contain a player <a> tag\n",
    "        player_tag = block.find('a')\n",
    "        if not player_tag:\n",
    "            continue  # skip if no player\n",
    "\n",
    "        player_name = player_tag.text.strip()\n",
    "\n",
    "        # Extract <strong> tags (Injury, IL date, etc.)\n",
    "        strongs = block.find_all('strong')\n",
    "\n",
    "        injury_type = ''\n",
    "        il_date = ''\n",
    "        expected_return = ''\n",
    "        status = ''\n",
    "\n",
    "        for s in strongs:\n",
    "            label = s.text.strip().lower()\n",
    "            if 'injury' in label:\n",
    "                injury_type = s.next_sibling.strip() if s.next_sibling else ''\n",
    "            elif 'il date' in label:\n",
    "                il_date = s.next_sibling.strip() if s.next_sibling else ''\n",
    "            elif 'expected return' in label:\n",
    "                expected_return = s.next_sibling.strip() if s.next_sibling else ''\n",
    "            elif 'status' in label:\n",
    "                # Get everything after the <strong>Status:</strong>\n",
    "                status_text = ''\n",
    "                for elem in s.next_siblings:\n",
    "                    if elem.name == 'br':\n",
    "                        break\n",
    "                    if isinstance(elem, str):\n",
    "                        status_text += elem.strip()\n",
    "                    elif hasattr(elem, 'text'):\n",
    "                        status_text += elem.text.strip()\n",
    "                status = status_text\n",
    "\n",
    "        print(f\"Player: {player_name}\")\n",
    "        print(f\"Injury: {injury_type}\")\n",
    "        print(f\"IL Date: {il_date}\")\n",
    "        print(f\"Expected Return: {expected_return}\")\n",
    "        print(f\"Status: {status}\")\n",
    "        print(\"-\" * 40)\n",
    "\n",
    "        # Add player to players table if not already there\n",
    "        cursor.execute('''\n",
    "            INSERT OR IGNORE INTO players (name)\n",
    "            VALUES (?)\n",
    "        ''', (player_name,))\n",
    "\n",
    "        # Get player_id\n",
    "        cursor.execute('''\n",
    "            SELECT player_id FROM players WHERE name = ?\n",
    "        ''', (player_name,))\n",
    "        result = cursor.fetchone()\n",
    "        player_id = result[0] if result else None\n",
    "\n",
    "        if player_id is None:\n",
    "            print(f\"❌ Could not find or insert player: {player_name}\")\n",
    "            continue\n",
    "\n",
    "        # Insert injury record\n",
    "        cursor.execute('''\n",
    "            INSERT INTO injuries (\n",
    "                player_id, injury_type, il_type, injury_start, injury_end, notes\n",
    "            ) VALUES (?, ?, ?, ?, ?, ?)\n",
    "        ''', (\n",
    "            player_id,\n",
    "            injury_type,\n",
    "            il_date,\n",
    "            None,            # No injury_start\n",
    "            expected_return, # Goes in injury_end\n",
    "            status\n",
    "        ))\n",
    "\n",
    "    conn.commit()\n",
    "    conn.close()\n",
    "    print(\"✅ Scraping + saving complete.\")\n",
    "\n",
    "if __name__ == '__main__':\n",
    "    scrape_injuries('data/dodgers_injury_db.sqlite')"
   ]
  },
  {
   "cell_type": "code",
   "execution_count": null,
   "id": "a12286d0",
   "metadata": {},
   "outputs": [],
   "source": []
  }
 ],
 "metadata": {
  "kernelspec": {
   "display_name": "venv",
   "language": "python",
   "name": "python3"
  },
  "language_info": {
   "codemirror_mode": {
    "name": "ipython",
    "version": 3
   },
   "file_extension": ".py",
   "mimetype": "text/x-python",
   "name": "python",
   "nbconvert_exporter": "python",
   "pygments_lexer": "ipython3",
   "version": "3.11.9"
  }
 },
 "nbformat": 4,
 "nbformat_minor": 5
}
