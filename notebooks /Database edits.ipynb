{
 "cells": [
  {
   "cell_type": "markdown",
   "id": "c20af4a0",
   "metadata": {},
   "source": [
    "## Imports "
   ]
  },
  {
   "cell_type": "code",
   "execution_count": 1,
   "id": "f7bba0c8",
   "metadata": {},
   "outputs": [],
   "source": [
    "import pandas as pd\n",
    "import sqlite3 "
   ]
  },
  {
   "cell_type": "markdown",
   "id": "bde88418",
   "metadata": {},
   "source": [
    "## Database Manipulation    "
   ]
  },
  {
   "cell_type": "code",
   "execution_count": null,
   "id": "1cd58a14",
   "metadata": {},
   "outputs": [
    {
     "name": "stdout",
     "output_type": "stream",
     "text": [
      "Column 'weight' has been added to the 'players' table.\n"
     ]
    }
   ],
   "source": [
    "\n",
    "db_path = 'data/dodgers_injury_db.sqlite'\n",
    "conn = sqlite3.connect(db_path)\n",
    "cursor = conn.cursor()\n",
    "\n",
    "# Add new column 'weight' to players table\n",
    "cursor.execute('''\n",
    "ALTER TABLE players ADD COLUMN weight INTEGER\n",
    "''')\n",
    "\n",
    "conn.commit()\n",
    "conn.close()\n",
    "\n",
    "print(\"Column 'weight' has been added to the 'players' table.\")"
   ]
  },
  {
   "cell_type": "code",
   "execution_count": null,
   "id": "016fbef8",
   "metadata": {},
   "outputs": [],
   "source": []
  },
  {
   "cell_type": "code",
   "execution_count": null,
   "id": "535417a4",
   "metadata": {},
   "outputs": [],
   "source": []
  }
 ],
 "metadata": {
  "kernelspec": {
   "display_name": "venv",
   "language": "python",
   "name": "python3"
  },
  "language_info": {
   "codemirror_mode": {
    "name": "ipython",
    "version": 3
   },
   "file_extension": ".py",
   "mimetype": "text/x-python",
   "name": "python",
   "nbconvert_exporter": "python",
   "pygments_lexer": "ipython3",
   "version": "3.11.9"
  }
 },
 "nbformat": 4,
 "nbformat_minor": 5
}
