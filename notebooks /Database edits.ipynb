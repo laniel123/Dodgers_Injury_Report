{
 "cells": [
  {
   "cell_type": "markdown",
   "id": "c20af4a0",
   "metadata": {},
   "source": [
    "## Imports "
   ]
  },
  {
   "cell_type": "code",
   "execution_count": 1,
   "id": "f7bba0c8",
   "metadata": {},
   "outputs": [],
   "source": [
    "import pandas as pd\n",
    "import sqlite3 "
   ]
  },
  {
   "cell_type": "markdown",
   "id": "bde88418",
   "metadata": {},
   "source": [
    "## Database Manipulation    "
   ]
  },
  {
   "cell_type": "code",
   "execution_count": 22,
   "id": "d1ca99c5",
   "metadata": {},
   "outputs": [],
   "source": [
    "db_path = db_path = '/Users/daniellarson/Desktop/Code/Projects/dodgers_injtrkr/data/dodgers_injury_db.sqlite'\n",
    "\n",
    "conn = sqlite3.connect(db_path)\n",
    "cursor = conn.cursor()\n"
   ]
  },
  {
   "cell_type": "code",
   "execution_count": null,
   "id": "50ac6ccf",
   "metadata": {},
   "outputs": [
    {
     "name": "stdout",
     "output_type": "stream",
     "text": [
      "Added 'href' column to players table.\n"
     ]
    }
   ],
   "source": [
    "conn = sqlite3.connect(db_path)\n",
    "cursor = conn.cursor()\n",
    "\n",
    "cursor.execute('''\n",
    "ALTER TABLE players ADD COLUMN href TEXT\n",
    "''')\n",
    "\n",
    "conn.commit()\n",
    "conn.close()\n",
    "\n",
    "print(\"Added 'href' column to players table.\")"
   ]
  },
  {
   "cell_type": "code",
   "execution_count": 27,
   "id": "19c81d13",
   "metadata": {},
   "outputs": [
    {
     "name": "stdout",
     "output_type": "stream",
     "text": [
      "✅ Table reset complete!\n"
     ]
    }
   ],
   "source": [
    "\n",
    "db_path = '/Users/daniellarson/Desktop/Code/Projects/dodgers_injtrkr/data/dodgers_injury_db.sqlite'\n",
    "conn = sqlite3.connect(db_path)\n",
    "cursor = conn.cursor()\n",
    "\n",
    "# Drop table if exists\n",
    "cursor.execute('DROP TABLE IF EXISTS players;')\n",
    "\n",
    "# Create table\n",
    "cursor.execute('''\n",
    "    CREATE TABLE players (\n",
    "        mlb_player_id INTEGER PRIMARY KEY,\n",
    "        name TEXT,\n",
    "        position TEXT,\n",
    "        team TEXT,\n",
    "        dob TEXT,\n",
    "        bats TEXT,\n",
    "        throws TEXT,\n",
    "        weight INTEGER,\n",
    "        href TEXT\n",
    "    );\n",
    "''')\n",
    "\n",
    "conn.commit()\n",
    "conn.close()\n",
    "\n",
    "print('✅ Table reset complete!')\n"
   ]
  },
  {
   "cell_type": "code",
   "execution_count": null,
   "id": "0f749a56",
   "metadata": {},
   "outputs": [
    {
     "name": "stdout",
     "output_type": "stream",
     "text": [
      "✅ Injuries table reset and updated!\n"
     ]
    }
   ],
   "source": [
    "# Drop old injuries table if exists\n",
    "db_path = '/Users/daniellarson/Desktop/Code/Projects/dodgers_injtrkr/data/dodgers_injury_db.sqlite'\n",
    "conn = sqlite3.connect(db_path)\n",
    "cursor = conn.cursor()\n",
    "\n",
    "# Drop old injuries table if exists\n",
    "cursor.execute('DROP TABLE IF EXISTS injuries;')\n",
    "\n",
    "# Recreate injuries table with updated reference\n",
    "cursor.execute('''\n",
    "CREATE TABLE injuries (\n",
    "    injury_id INTEGER PRIMARY KEY AUTOINCREMENT,\n",
    "    mlb_player_id INTEGER,\n",
    "    injury_type TEXT,\n",
    "    il_type TEXT,\n",
    "    injury_start DATE,\n",
    "    injury_end DATE,\n",
    "    notes TEXT,\n",
    "    FOREIGN KEY (mlb_player_id) REFERENCES players(mlb_player_id)\n",
    ");\n",
    "''')\n",
    "\n",
    "conn.commit()\n",
    "conn.close()\n",
    "\n",
    "print('✅ Injuries table reset and updated!')"
   ]
  },
  {
   "cell_type": "code",
   "execution_count": 29,
   "id": "9e79f02a",
   "metadata": {},
   "outputs": [
    {
     "name": "stdout",
     "output_type": "stream",
     "text": [
      "   mlb_player_id             name position                 team         dob  \\\n",
      "0         472610      Luis García     None  Los Angeles Dodgers  01/30/1987   \n",
      "1         477132  Clayton Kershaw     None  Los Angeles Dodgers  03/19/1988   \n",
      "2         489446      Kirby Yates     None  Los Angeles Dodgers  03/25/1987   \n",
      "3         500743     Miguel Rojas     None  Los Angeles Dodgers  02/24/1989   \n",
      "4         518692  Freddie Freeman     None  Los Angeles Dodgers  09/12/1989   \n",
      "\n",
      "  bats throws  weight            href  \n",
      "0    R      R     240  /player/472610  \n",
      "1    L      L     225  /player/477132  \n",
      "2    L      R     205  /player/489446  \n",
      "3    R      R     188  /player/500743  \n",
      "4    L      R     220  /player/518692  \n"
     ]
    }
   ],
   "source": [
    "\n",
    "# Connect to your database\n",
    "db_path = db_path = '/Users/daniellarson/Desktop/Code/Projects/dodgers_injtrkr/data/dodgers_injury_db.sqlite'\n",
    "conn = sqlite3.connect(db_path)\n",
    "\n",
    "# Run your query BEFORE closing the connection\n",
    "query = 'SELECT * FROM players'\n",
    "df = pd.read_sql_query(query, conn)\n",
    "\n",
    "print(df.head(5))\n"
   ]
  },
  {
   "cell_type": "code",
   "execution_count": 31,
   "id": "be0c81bd",
   "metadata": {},
   "outputs": [
    {
     "name": "stdout",
     "output_type": "stream",
     "text": [
      "Empty DataFrame\n",
      "Columns: [injury_id, mlb_player_id, injury_type, il_type, injury_start, injury_end, notes]\n",
      "Index: []\n"
     ]
    }
   ],
   "source": [
    "db_path = db_path = '/Users/daniellarson/Desktop/Code/Projects/dodgers_injtrkr/data/dodgers_injury_db.sqlite'\n",
    "conn = sqlite3.connect(db_path)\n",
    "\n",
    "# Run your query BEFORE closing the connection\n",
    "query = 'SELECT * FROM injuries'\n",
    "df = pd.read_sql_query(query, conn)\n",
    "\n",
    "print(df.head(5))"
   ]
  },
  {
   "cell_type": "markdown",
   "id": "6e121454",
   "metadata": {},
   "source": [
    "## New Player Stats tables"
   ]
  },
  {
   "cell_type": "code",
   "execution_count": 32,
   "id": "ea398155",
   "metadata": {},
   "outputs": [],
   "source": [
    "db_path = '/Users/daniellarson/Desktop/Code/Projects/dodgers_injtrkr/data/dodgers_injury_db.sqlite'  # change this to your actual path\n",
    "conn = sqlite3.connect(db_path)\n",
    "cursor = conn.cursor()"
   ]
  },
  {
   "cell_type": "code",
   "execution_count": null,
   "id": "7b22a442",
   "metadata": {},
   "outputs": [],
   "source": [
    "import sqlite3\n",
    "\n",
    "# SQL query to create the table\n",
    "create_table_query = '''\n",
    "CREATE TABLE IF NOT EXISTS career_pitching_stats (\n",
    "    id INTEGER PRIMARY KEY AUTOINCREMENT,\n",
    "    mlb_player_id INTEGER,  -- foreign key to players table\n",
    "    season TEXT,\n",
    "    team TEXT,\n",
    "    league TEXT,\n",
    "    w INTEGER,\n",
    "    l INTEGER,\n",
    "    era REAL,\n",
    "    g INTEGER,\n",
    "    gs INTEGER,\n",
    "    cg INTEGER,\n",
    "    sho INTEGER,\n",
    "    hld INTEGER,\n",
    "    sv INTEGER,\n",
    "    svo INTEGER,\n",
    "    ip TEXT,\n",
    "    h INTEGER,\n",
    "    r INTEGER,\n",
    "    er INTEGER,\n",
    "    hr INTEGER,\n",
    "    np INTEGER,\n",
    "    hb INTEGER,\n",
    "    bb INTEGER,\n",
    "    ibb INTEGER,\n",
    "    so INTEGER,\n",
    "    avg REAL,\n",
    "    whip REAL,\n",
    "    go_ao REAL,\n",
    "    qs INTEGER,\n",
    "    gf INTEGER,\n",
    "    doubles INTEGER,\n",
    "    triples INTEGER,\n",
    "    gidp INTEGER,\n",
    "    gidpo INTEGER,\n",
    "    wp INTEGER,\n",
    "    bk INTEGER,\n",
    "    sb INTEGER,\n",
    "    cs INTEGER,\n",
    "    pk INTEGER,\n",
    "    s_percent REAL,\n",
    "    p_ip REAL,\n",
    "    p_pa REAL,\n",
    "    wpct REAL,\n",
    "    rs_per_9 REAL,\n",
    "    tbf INTEGER,\n",
    "    babip REAL,\n",
    "    obp REAL,\n",
    "    slg REAL,\n",
    "    ops REAL,\n",
    "    k_per_9 REAL,\n",
    "    bb_per_9 REAL,\n",
    "    hr_per_9 REAL,\n",
    "    h_per_9 REAL,\n",
    "    k_bb REAL,\n",
    "    ir INTEGER,\n",
    "    ir_s INTEGER,\n",
    "    bqr INTEGER,\n",
    "    bqr_s INTEGER,\n",
    "    FOREIGN KEY (mlb_player_id) REFERENCES players(mlb_player_id)\n",
    ");\n",
    "'''\n",
    "\n",
    "# Execute the query\n",
    "cursor.execute(create_table_query)\n",
    "conn.commit()\n",
    "\n",
    "print(\"Table 'career_pitching_stats' created successfully!\")\n",
    "\n",
    "# Close the connection\n",
    "conn.close()"
   ]
  },
  {
   "cell_type": "code",
   "execution_count": null,
   "id": "016fbef8",
   "metadata": {},
   "outputs": [],
   "source": []
  },
  {
   "cell_type": "code",
   "execution_count": null,
   "id": "535417a4",
   "metadata": {},
   "outputs": [],
   "source": []
  }
 ],
 "metadata": {
  "kernelspec": {
   "display_name": "venv",
   "language": "python",
   "name": "python3"
  },
  "language_info": {
   "codemirror_mode": {
    "name": "ipython",
    "version": 3
   },
   "file_extension": ".py",
   "mimetype": "text/x-python",
   "name": "python",
   "nbconvert_exporter": "python",
   "pygments_lexer": "ipython3",
   "version": "3.11.9"
  }
 },
 "nbformat": 4,
 "nbformat_minor": 5
}
