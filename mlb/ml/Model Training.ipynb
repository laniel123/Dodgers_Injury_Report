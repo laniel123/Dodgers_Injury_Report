{
 "cells": [
  {
   "cell_type": "code",
   "execution_count": null,
   "id": "d417723d",
   "metadata": {},
   "outputs": [],
   "source": [
    "import pandas as pd\n",
    "import numpy as np\n",
    "import matplotlib.pyplot as plt\n",
    "import seaborn as sns\n",
    "from sklearn.ensemble import RandomForestClassifier\n",
    "from sklearn.model_selection import train_test_split\n",
    "from sklearn.metrics import classification_report"
   ]
  },
  {
   "cell_type": "markdown",
   "id": "c15343ef",
   "metadata": {},
   "source": [
    "## Load Data"
   ]
  },
  {
   "cell_type": "code",
   "execution_count": 12,
   "id": "a9b8fbaa",
   "metadata": {},
   "outputs": [
    {
     "name": "stdout",
     "output_type": "stream",
     "text": [
      "✅ Combined shape: (15787, 73)\n"
     ]
    }
   ],
   "source": [
    "\n",
    "from datetime import timedelta\n",
    "\n",
    "# 📂 Connect to your database\n",
    "conn = sqlite3.connect(\"/Users/daniellarson/Desktop/Code/Projects/dodgers_injtrkr/mlb/mlb_players.db\")\n",
    "\n",
    "# 🔍 Load tables\n",
    "injuries = pd.read_sql_query(\"SELECT * FROM injury_stats\", conn)\n",
    "stats = pd.read_sql_query(\"SELECT * FROM mlb_player_stats\", conn)\n",
    "\n",
    "# 🕒 Convert dates\n",
    "injuries['injury_date'] = pd.to_datetime(injuries['injury_date'], errors='coerce')\n",
    "stats['game_date'] = pd.to_datetime(stats['game_date'], errors='coerce')\n",
    "stats = stats.dropna(subset=['game_date'])\n",
    "\n",
    "# 📊 Get injury stats (last 10 days before injury)\n",
    "injured_rows = []\n",
    "for _, injury in injuries.iterrows():\n",
    "    player_id = injury['mlb_player_id']\n",
    "    injury_date = injury['injury_date']\n",
    "\n",
    "    window = stats[\n",
    "        (stats['mlb_player_id'] == player_id) &\n",
    "        (stats['game_date'] >= injury_date - timedelta(days=10)) &\n",
    "        (stats['game_date'] < injury_date)\n",
    "    ].copy()\n",
    "\n",
    "    if not window.empty:\n",
    "        window['injured'] = 1\n",
    "        injured_rows.append(window)\n",
    "\n",
    "injured_df = pd.concat(injured_rows, ignore_index=True)\n",
    "\n",
    "# 🧼 Remove duplicates and overlap from healthy pool\n",
    "injured_ids = set(injured_df['mlb_player_id'].unique())\n",
    "healthy_df = stats[~stats['mlb_player_id'].isin(injured_ids)].copy()\n",
    "\n",
    "# Use most recent 10 days of data (you can modify this)\n",
    "latest_date = healthy_df['game_date'].max()\n",
    "healthy_df = healthy_df[healthy_df['game_date'] >= latest_date - timedelta(days=10)]\n",
    "healthy_df['injured'] = 0\n",
    "\n",
    "# 🧬 Combine\n",
    "combined_df = pd.concat([injured_df, healthy_df], ignore_index=True)\n",
    "print(\"✅ Combined shape:\", combined_df.shape)\n",
    "\n",
    "# 💾 Optional: Save it\n",
    "#combined_df.to_csv(\"data/labeled_player_stats.csv\", index=False)"
   ]
  },
  {
   "cell_type": "code",
   "execution_count": 14,
   "id": "5f2deb51",
   "metadata": {},
   "outputs": [
    {
     "name": "stdout",
     "output_type": "stream",
     "text": [
      "🔹 Loaded data shape: (15787, 73)\n"
     ]
    }
   ],
   "source": [
    "df = combined_df.copy()\n",
    "print(\"🔹 Loaded data shape:\", df.shape)"
   ]
  },
  {
   "cell_type": "markdown",
   "id": "99b43fa3",
   "metadata": {},
   "source": [
    "## Processing   "
   ]
  },
  {
   "cell_type": "code",
   "execution_count": null,
   "id": "02089c56",
   "metadata": {},
   "outputs": [
    {
     "name": "stdout",
     "output_type": "stream",
     "text": [
      "🔹 After dropping: (15787, 69)\n"
     ]
    },
    {
     "name": "stderr",
     "output_type": "stream",
     "text": [
      "/var/folders/cw/3rv8y44572g92cpbrwppsy8h0000gn/T/ipykernel_38003/884020710.py:10: FutureWarning: Downcasting object dtype arrays on .fillna, .ffill, .bfill is deprecated and will change in a future version. Call result.infer_objects(copy=False) instead. To opt-in to the future behavior, set `pd.set_option('future.no_silent_downcasting', True)`\n",
      "  df = df.fillna(0)\n"
     ]
    }
   ],
   "source": [
    "# Drop identifier or non-useful columns\n",
    "drop_cols = [\n",
    "    'game_date', 'season', 'game_id', 'summary', 'StatType', 'StatGroup',\n",
    "    'Team', 'Opponent', 'Position', 'Games', 'PlayerID', 'TeamID', 'OpponentID'\n",
    "]\n",
    "df = df.drop(columns=[col for col in drop_cols if col in df.columns], errors='ignore')\n",
    "print(\"🔹 After dropping:\", df.shape)\n",
    "\n",
    "# Fill missing values (can also use imputation)\n",
    "df = df.fillna(0)\n",
    "\n"
   ]
  },
  {
   "cell_type": "code",
   "execution_count": null,
   "id": "5d68a7c7",
   "metadata": {},
   "outputs": [],
   "source": [
    "df = pd.get_dummies(df)\n",
    "\n",
    "# Make sure 'injured' column exists\n",
    "if 'injured' not in df.columns:\n",
    "    raise ValueError(\"🛑 'injured' column not found\")\n",
    "\n",
    "# 🔗 Plot correlation\n",
    "corr_matrix = df.corr(numeric_only=True)\n",
    "top_features = corr_matrix['injured'].abs().sort_values(ascending=False).head(15).index\n",
    "corr_subset = corr_matrix.loc[top_features, top_features]\n",
    "\n",
    "plt.figure(figsize=(12, 10))\n",
    "sns.heatmap(corr_subset, annot=True, cmap='coolwarm', fmt=\".2f\", square=True, linewidths=0.5)\n",
    "plt.title(\"🔗 Correlation Between Top Features and Injury\")\n",
    "plt.tight_layout()\n",
    "plt.show()"
   ]
  },
  {
   "cell_type": "code",
   "execution_count": null,
   "id": "04c355fd",
   "metadata": {},
   "outputs": [],
   "source": [
    "X = df.drop(columns='injured')\n",
    "y = df['injured']\n",
    "\n",
    "# Split dataset\n",
    "X_train, X_test, y_train, y_test = train_test_split(\n",
    "    X, y, test_size=0.2, stratify=y, random_state=42\n",
    ")\n",
    "\n",
    "print(\"✅ Training samples:\", len(X_train))\n",
    "print(\"✅ Test samples:\", len(X_test))"
   ]
  },
  {
   "cell_type": "code",
   "execution_count": null,
   "id": "3afc2cd3",
   "metadata": {},
   "outputs": [],
   "source": [
    "model = RandomForestClassifier(n_estimators=100, random_state=42)\n",
    "model.fit(X_train, y_train)"
   ]
  },
  {
   "cell_type": "code",
   "execution_count": null,
   "id": "4a4a2abb",
   "metadata": {},
   "outputs": [],
   "source": [
    "y_pred = model.predict(X_test)\n",
    "\n",
    "print(\"🔍 Classification Report:\")\n",
    "print(classification_report(y_test, y_pred))"
   ]
  },
  {
   "cell_type": "code",
   "execution_count": null,
   "id": "a0d4c494",
   "metadata": {},
   "outputs": [],
   "source": [
    "importances = model.feature_importances_\n",
    "indices = np.argsort(importances)[::-1]\n",
    "top_n = 15\n",
    "\n",
    "plt.figure(figsize=(10, 6))\n",
    "plt.title(\"📌 Top 15 Features Predicting Injury\")\n",
    "plt.bar(range(top_n), importances[indices[:top_n]], align=\"center\")\n",
    "plt.xticks(range(top_n), X.columns[indices[:top_n]], rotation=45, ha='right')\n",
    "plt.tight_layout()\n",
    "plt.show()"
   ]
  }
 ],
 "metadata": {
  "kernelspec": {
   "display_name": "venv",
   "language": "python",
   "name": "python3"
  },
  "language_info": {
   "codemirror_mode": {
    "name": "ipython",
    "version": 3
   },
   "file_extension": ".py",
   "mimetype": "text/x-python",
   "name": "python",
   "nbconvert_exporter": "python",
   "pygments_lexer": "ipython3",
   "version": "3.11.9"
  }
 },
 "nbformat": 4,
 "nbformat_minor": 5
}
